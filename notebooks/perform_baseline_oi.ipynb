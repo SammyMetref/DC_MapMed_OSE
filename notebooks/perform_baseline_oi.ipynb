{
 "cells": [
  {
   "cell_type": "markdown",
   "metadata": {},
   "source": [
    "![header](../figures/DC_MapMed_OSE-banner.png)"
   ]
  },
  {
   "cell_type": "markdown",
   "metadata": {},
   "source": [
    "***\n",
    "**Authors:**  Datlas & IGE <br>\n",
    "**Copyright:** 2022 Datlas & IGE <br>\n",
    "**License:** MIT\n",
    "\n",
    "<div class=\"alert alert-block alert-success\">\n",
    "    <h1><center>Perform baseline OI</center></h1>\n",
    "    <h5><center>\n",
    "    <h5><center>This notebook shows how to address the data challenge by performing a mapping technique baseline: an optimal interpolation.</h5> \n",
    "</div> \n",
    "\n",
    "\n",
    "\n",
    "\n"
   ]
  },
  {
   "cell_type": "markdown",
   "metadata": {},
   "source": [
    "The notebook is structured as follow: \n",
    "\n",
    "    1) Optimal interpolation principle\n",
    "    2) Set up optimal interpolation parameters,\n",
    "    3) Read observations,\n",
    "    4) Run optimal interpolation \n",
    "    5) Save the outputs  "
   ]
  },
  {
   "cell_type": "code",
   "execution_count": 1,
   "metadata": {},
   "outputs": [],
   "source": [
    "%matplotlib inline\n",
    "\n",
    "import xarray as xr\n",
    "import numpy\n",
    "import warnings\n",
    "import logging\n",
    "import sys\n",
    "import os\n",
    "warnings.filterwarnings('ignore')\n",
    "sys.path.remove('/Users/sammymetref/Documents/DataChallenges/DC_IW_crossoverCal/2022a_mapping_HFdynamic')\n",
    "\n",
    "logger = logging.getLogger()\n",
    "logger.setLevel(logging.INFO)\n",
    "\n",
    "sys.path.append('..')\n",
    "\n",
    "from src.mod_oi import *\n",
    "from src.mod_inout import *"
   ]
  },
  {
   "cell_type": "markdown",
   "metadata": {},
   "source": [
    "<div class=\"alert alert-info\" role=\"alert\">\n",
    "\n",
    "<h2> Optimal interpolation principle </h2>\n",
    "\n",
    "</div>"
   ]
  },
  {
   "cell_type": "markdown",
   "metadata": {},
   "source": [
    "\n",
    "\n",
    "Here, we assume a vector of observations, noted $y$ defined as:\n",
    "\n",
    "$$y = H x + \\epsilon $$\n",
    "\n",
    "where $H$ is a linear observation operator between the reconstruction grid space and the observation space\n",
    ", $x$ is the state to estimate and $\\epsilon$ is an independent observation error.\n",
    "\n",
    "The optimal interpolation consists in estimating an analysed state $x_{a}$ in combining the available observations to approximate the real state $x$:\n",
    "\n",
    "$$x_{a} = K y $$\n",
    "where $K$ is the weigth matrix defined as:\n",
    "\n",
    "$$ K = BH^T(HBH^T + R)^{-1} $$\n",
    "\n",
    "$B$ is the covariance matrix of $x$, and $R$ the covariance matrix of the error vector $\\epsilon$ ($^T$ is the transpose operator)"
   ]
  },
  {
   "cell_type": "markdown",
   "metadata": {},
   "source": [
    "<div class=\"alert alert-info\" role=\"alert\">\n",
    "\n",
    "<h2> Set up optimal interpolation parameters </h2>\n",
    "\n",
    "</div>"
   ]
  },
  {
   "cell_type": "code",
   "execution_count": 2,
   "metadata": {},
   "outputs": [],
   "source": [
    "# OI Grid\n",
    "lon_min = 1.                                           # domain min longitude\n",
    "lon_max = 20.                                           # domain max longitude\n",
    "lat_min = 30.                                            # domain min latitude\n",
    "lat_max = 45.                                            # domain max latitude\n",
    "time_min = numpy.datetime64('2021-01-01')                # domain min time\n",
    "time_max = numpy.datetime64('2021-03-31')                # domain max time\n",
    "dx = 0.1                                                 # zonal grid spatial step (in degree)\n",
    "dy = 0.1                                                 # meridional grid spatial step (in degree)\n",
    "dt = numpy.timedelta64(1, 'D')                           # temporal grid step\n",
    "\n",
    "glon = numpy.arange(lon_min, lon_max + dx, dx)           # output OI longitude grid\n",
    "glat = numpy.arange(lat_min, lat_max + dy, dy)           # output OI latitude grid\n",
    "gtime = numpy.arange(time_min, time_max + dt, dt)        # output OI time grid\n",
    "\n",
    "# OI parameters\n",
    "Lx = 1.                                                  # Zonal decorrelation scale (in degree)\n",
    "Ly = 1.                                                  # Meridional decorrelation scale (in degree)\n",
    "Lt = 7.                                                  # Temporal decorrelation scale (in days)\n",
    "noise = 0.05                                             # Noise level (5%)"
   ]
  },
  {
   "cell_type": "markdown",
   "metadata": {},
   "source": [
    "<div class=\"alert alert-info\" role=\"alert\">\n",
    "\n",
    "<h2> Read observations </h2>\n",
    "\n",
    "</div>"
   ]
  },
  {
   "cell_type": "code",
   "execution_count": 3,
   "metadata": {
    "scrolled": true
   },
   "outputs": [
    {
     "name": "stdout",
     "output_type": "stream",
     "text": [
      "--2022-09-28 12:03:10--  https://ige-meom-opendap.univ-grenoble-alpes.fr/thredds/fileServer/meomopendap/extract/ocean-data-challenges/dc_MapMed_OSE/dc_obs.tar.gz\n",
      "Résolution de ige-meom-opendap.univ-grenoble-alpes.fr (ige-meom-opendap.univ-grenoble-alpes.fr)… 129.88.191.39\n",
      "Connexion à ige-meom-opendap.univ-grenoble-alpes.fr (ige-meom-opendap.univ-grenoble-alpes.fr)|129.88.191.39|:443… connecté.\n",
      "requête HTTP transmise, en attente de la réponse… 200 200\n",
      "Taille : 1637056 (1,6M) [application/octet-stream]\n",
      "Sauvegarde en : « dc_obs.tar.gz »\n",
      "\n",
      "dc_obs.tar.gz       100%[===================>]   1,56M  --.-KB/s    ds 0,02s   \n",
      "\n",
      "2022-09-28 12:03:10 (79,9 MB/s) — « dc_obs.tar.gz » sauvegardé [1637056/1637056]\n",
      "\n",
      "x dc_obs/\n",
      "x dc_obs/dt_med_alg_phy_l3_20210101-20210331_0-20_30-45.nc\n",
      "x dc_obs/dt_med_j3_phy_l3_20210101-20210331_0-20_30-45.nc\n",
      "x dc_obs/dt_med_h2b_phy_l3_20210101-20210331_0-20_30-45.nc\n",
      "x dc_obs/dt_med_mdt_phy_l4_0.5-20.0_29-45.nc\n",
      "x dc_obs/dt_med_s3b_phy_l3_20210101-20210331_0-20_30-45.nc\n",
      "x dc_obs/dt_med_s3a_phy_l3_20210101-20210331_0-20_30-45.nc\n"
     ]
    }
   ],
   "source": [
    "# Download the compressed file containing the obs\n",
    "!wget https://ige-meom-opendap.univ-grenoble-alpes.fr/thredds/fileServer/meomopendap/extract/ocean-data-challenges/dc_MapMed_OSE/dc_obs.tar.gz\n",
    "# Uncompress in ../inputs\n",
    "!tar -xvf dc_obs.tar.gz --directory ../inputs\n",
    "# Remove compressed file\n",
    "!rm -f dc_obs.tar.gz"
   ]
  },
  {
   "cell_type": "code",
   "execution_count": 4,
   "metadata": {},
   "outputs": [],
   "source": [
    "# Define outputs\n",
    "output_directory = '../results/'\n",
    "if not os.path.exists(output_directory):\n",
    "    os.mkdir(output_directory)  \n",
    "output_oi = f'{output_directory}/dt_med_mapping_baselineOI.nc'"
   ]
  },
  {
   "cell_type": "markdown",
   "metadata": {},
   "source": [
    "<div class=\"alert alert-info\" role=\"alert\">\n",
    "\n",
    "<h2> Run optimal interpolation </h2>\n",
    "\n",
    "</div>"
   ]
  },
  {
   "cell_type": "code",
   "execution_count": 5,
   "metadata": {
    "scrolled": true
   },
   "outputs": [
    {
     "name": "stderr",
     "output_type": "stream",
     "text": [
      "INFO:root:     Set OI params...\n",
      "INFO:root:     Set OI grid...\n",
      "INFO:root:     Reading observations...\n"
     ]
    },
    {
     "name": "stdout",
     "output_type": "stream",
     "text": [
      "CPU times: user 1h 5min 25s, sys: 2min 12s, total: 1h 7min 38s\n",
      "Wall time: 40min 32s\n"
     ]
    }
   ],
   "source": [
    "%%time\n",
    "# set OI param & grid\n",
    "ds_oi1_param = oi_param(Lx, Ly, Lt, noise)\n",
    "ds_oi1_grid = oi_grid(glon, glat, gtime)\n",
    "\n",
    "# Read input obs + discard a bit...\n",
    "coarsening = {'time': 5}\n",
    "ds_oi1_obs = read_obs('../inputs/dc_obs/*l3*.nc',ds_oi1_grid,ds_oi1_param,coarsening)\n",
    "ds_oi1_obs.sla_unfiltered.values = ds_oi1_obs.sla_unfiltered + ds_oi1_obs.mdt\n",
    "\n",
    "# Run OI (take 1h on my laptop)\n",
    "for it in range(len(gtime)):\n",
    "    oi_core(it, ds_oi1_grid, ds_oi1_param, ds_oi1_obs)\n",
    "    \n",
    "ds_oi = ds_oi1_grid.drop(['gtime', 'ng', 'glon2', 'glat2', 'fglon', 'fglat', 'nobs'])\n",
    "ds_oi = ds_oi.rename({'gssh': 'ssh'})"
   ]
  },
  {
   "cell_type": "markdown",
   "metadata": {},
   "source": [
    "<div class=\"alert alert-info\" role=\"alert\">\n",
    "\n",
    "<h2> Save the outputs </h2>\n",
    "\n",
    "</div>"
   ]
  },
  {
   "cell_type": "code",
   "execution_count": 6,
   "metadata": {},
   "outputs": [],
   "source": [
    "ds_oi.to_netcdf(output_oi)"
   ]
  },
  {
   "cell_type": "code",
   "execution_count": null,
   "metadata": {},
   "outputs": [],
   "source": []
  }
 ],
 "metadata": {
  "kernelspec": {
   "display_name": "Python 3",
   "language": "python",
   "name": "python3"
  },
  "language_info": {
   "codemirror_mode": {
    "name": "ipython",
    "version": 3
   },
   "file_extension": ".py",
   "mimetype": "text/x-python",
   "name": "python",
   "nbconvert_exporter": "python",
   "pygments_lexer": "ipython3",
   "version": "3.6.13"
  }
 },
 "nbformat": 4,
 "nbformat_minor": 4
}
